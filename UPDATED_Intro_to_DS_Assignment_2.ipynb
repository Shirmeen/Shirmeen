{
  "cells": [
    {
      "cell_type": "markdown",
      "metadata": {
        "id": "view-in-github",
        "colab_type": "text"
      },
      "source": [
        "<a href=\"https://colab.research.google.com/github/Shirmeen/Shirmeen/blob/main/UPDATED_Intro_to_DS_Assignment_2.ipynb\" target=\"_parent\"><img src=\"https://colab.research.google.com/assets/colab-badge.svg\" alt=\"Open In Colab\"/></a>"
      ]
    },
    {
      "cell_type": "markdown",
      "metadata": {
        "id": "TWWLTwYZorzC"
      },
      "source": [
        "# Introduction To Data Science – Assignment 2\n",
        "\n",
        "---\n",
        "\n",
        "#### Sections A – B – C – D\n",
        "\n",
        "---\n",
        "\n",
        "##***Instructions: Read These Carefully Before Starting!***\n",
        "\n",
        "1. Due Date: Thursday 20th October 2022 – 11:59PM\n",
        "\n",
        "2. **Name the file in the format Lyyxxxx_A2.ipynb and save it as .ipynb (e.g. L216666_A2.ipynb)**\n",
        "\n",
        "3. Submission will be taken on Google Classroom (**submit SINGLE .ipynb file ONLY**)\n",
        "\n",
        "4. **Assignment will not be evaluated if**:\n",
        "\n",
        "> * You submit python (.py) files\n",
        "> * You submit multiple .ipynb files\n",
        "> * You submit compressed (.rar or .zip) files\n",
        "\n",
        "5. **Work in the spaces provided and do not delete/modify any cells from this template.**\n",
        "\n",
        "6. Upload data files directly to Google Colab - do not use Google Drive or GitHub linking method\n",
        "\n",
        "*Not following these instructions will lead to mark deduction.*\n",
        "\n",
        "---\n",
        "\n",
        "All source files needed to complete this assignment can be found on the following [Google Drive link](https://drive.google.com/drive/folders/1qBib_6ZOhvHb73ZRLWiCMWl9NFyU1IDO?usp=sharing). Download these files and upload them to your Google Colab Notebook.\n",
        "\n",
        "**Do not link Google Drive or GitHub with Colab.**\n",
        "\n",
        "**Do not add these files with your submission on Google Classroom.**\n",
        "\n",
        "---\n",
        "\n",
        "Happy Coding 🌺\n",
        "\n",
        "---\n",
        "\n",
        "TA Emails\n",
        "\n",
        "Section A, C - Muhammad Maarij l192347@lhr.nu.edu.pk\n",
        "\n",
        "Section B, D - Hira Ijaz l192377@lhr.nu.edu.pk\n",
        "\n",
        "---"
      ]
    },
    {
      "cell_type": "markdown",
      "metadata": {
        "id": "mwtAOew56gkd"
      },
      "source": [
        "---\n",
        "## Question 0\n",
        "\n",
        "Add all library imports here"
      ]
    },
    {
      "cell_type": "code",
      "execution_count": null,
      "metadata": {
        "id": "swlE8Tvq6g2u"
      },
      "outputs": [],
      "source": [
        "import pandas as pd\n",
        "import matplotlib.pyplot as plt\n",
        "import numpy as np\n",
        "from sklearn import linear_model\n"
      ]
    },
    {
      "cell_type": "markdown",
      "metadata": {
        "id": "ZR8C9ctqsy3V"
      },
      "source": [
        "---\n",
        "## Question 1\n",
        "\n",
        "####Single Linear Regression with Gradient Descent\n",
        "\n",
        "> Take help from slides 26 and 30\n",
        "---"
      ]
    },
    {
      "cell_type": "markdown",
      "metadata": {
        "id": "DzGOilP7sy3Y"
      },
      "source": [
        "**Part A -**\n",
        "Write a function that calculates and returns value for hypothesis $h_\\theta(x)$"
      ]
    },
    {
      "cell_type": "code",
      "execution_count": null,
      "metadata": {
        "collapsed": true,
        "id": "3bczSIhosy3Z"
      },
      "outputs": [],
      "source": [
        "# complete this function implementation\n",
        "import numpy as np\n",
        "def hypothesis_x(x, theta):\n",
        " ans= theta[0]*x+theta[1]\n",
        " return ans\n",
        "\n"
      ]
    },
    {
      "cell_type": "markdown",
      "metadata": {
        "id": "dXORHsxSsy3a"
      },
      "source": [
        "**Part B -**\n",
        "Write a function that calculates and returns value for loss/cost $J(\\theta_0, \\theta_1)$"
      ]
    },
    {
      "cell_type": "code",
      "execution_count": null,
      "metadata": {
        "collapsed": true,
        "id": "__DPftoLsy3c"
      },
      "outputs": [],
      "source": [
        "# complete this function implementation\n",
        "def loss(hypothesis_x, y):\n",
        "  m=len(y)\n",
        "  i=0\n",
        "  for i in range( m):\n",
        "    n+=(hypothesis_x[i] - y[i])**2\n",
        "    j=n/(2*m)\n",
        "    return j\n",
        "\n"
      ]
    },
    {
      "cell_type": "markdown",
      "metadata": {
        "id": "WjWa6pMGsy3d"
      },
      "source": [
        "**Part C-**\n",
        "Write a function that applies the gradient descent algorithm and updates values of $\\theta_0$ and $\\theta_1$ until they converge.\n",
        "\n",
        "* take default vaue of $α$ to be 0.015\n",
        "* take default number of iterations to be 15000\n",
        "* print loss after every 500 iterations"
      ]
    },
    {
      "cell_type": "code",
      "execution_count": null,
      "metadata": {
        "collapsed": true,
        "id": "U7qtzuCWsy3e"
      },
      "outputs": [],
      "source": [
        "# complete this function implementation\n",
        "def gradientDescent(x, y, theta, numIterations=15000, alpha=0.0015):\n",
        "\n",
        "    m=len(x)\n",
        "    iterations=500\n",
        "    # theta = np.zeros((iterations,2))\n",
        "    # cost = np.zeros(iterations)\n",
        "    cost = []\n",
        "    i=0\n",
        "    hx=0\n",
        "    hy=0\n",
        "    while i < m:\n",
        "        hx += hypothesis_x(theta, x[i])-y[i]\n",
        "        hy += (hypothesis_x(theta, x[i])-y[i])*x[i]\n",
        "        i+1\n",
        "    for j in range(numIterations):\n",
        "        theta[0] -= alpha*(1/m)*hx\n",
        "        theta[1] -= alpha (1/m)*hy\n",
        "        # cost.append(cost(theta, x, y))\n",
        "    for k in range(m):\n",
        "        if (k%500==0):\n",
        "          cost.append(loss(hypothesis_x(theta,x[k]), y[k]))\n",
        "          print(cost)\n",
        "\n",
        "\n",
        "          return theta, cost\n",
        "\n"
      ]
    },
    {
      "cell_type": "markdown",
      "metadata": {
        "id": "0zwvS5cqsy3g"
      },
      "source": [
        "**Part D -**\n",
        "FactoryRevenue.csv contains information about the number of workers in a factory and the annual profit for that factory. Import the file FactoryRevenue.csv as a Pandas DataSet and print out the information for it."
      ]
    },
    {
      "cell_type": "code",
      "execution_count": null,
      "metadata": {
        "colab": {
          "base_uri": "https://localhost:8080/"
        },
        "collapsed": true,
        "id": "Uef-aGHisy3h",
        "outputId": "4d120f15-7905-459f-a703-5c864dc6ff82"
      },
      "outputs": [
        {
          "output_type": "stream",
          "name": "stdout",
          "text": [
            "<class 'pandas.core.frame.DataFrame'>\n",
            "RangeIndex: 99 entries, 0 to 98\n",
            "Data columns (total 2 columns):\n",
            " #   Column               Non-Null Count  Dtype  \n",
            "---  ------               --------------  -----  \n",
            " 0   TotalFactoryWorkers  98 non-null     float64\n",
            " 1   AnnualProfit         98 non-null     float64\n",
            "dtypes: float64(2)\n",
            "memory usage: 1.7 KB\n",
            "       TotalFactoryWorkers  AnnualProfit\n",
            "count            98.000000     98.000000\n",
            "mean              8.089339      5.824006\n",
            "std               3.912564      5.483831\n",
            "min               1.254600     -2.680700\n",
            "25%               5.657450      2.004575\n",
            "50%               6.568650      4.459400\n",
            "75%               8.563225      6.990850\n",
            "max              22.203000     24.147000\n"
          ]
        }
      ],
      "source": [
        "import pandas as pd\n",
        "df = pd.read_csv(\"/content/Update_FactoryRevenue.csv\")\n",
        "df.info()\n",
        "df.head()\n",
        "print(df.describe())"
      ]
    },
    {
      "cell_type": "markdown",
      "metadata": {
        "id": "yv9_dDiw65o8"
      },
      "source": [
        "**Part E -**\n",
        "Remove rows that have any null values"
      ]
    },
    {
      "cell_type": "code",
      "execution_count": null,
      "metadata": {
        "colab": {
          "base_uri": "https://localhost:8080/"
        },
        "id": "l50u9HZx7H5t",
        "outputId": "4320d0bb-2c6c-4b2e-a508-002e49d26710"
      },
      "outputs": [
        {
          "output_type": "stream",
          "name": "stdout",
          "text": [
            "Number of Rows Before:  99\n",
            "Number of rows containing null data: 2\n",
            "Number of rows containing null data after removal: 0\n",
            "Number of Rows After:  97\n"
          ]
        }
      ],
      "source": [
        "print(\"Number of Rows Before: \",df.shape[0])\n",
        "print(\"Number of rows containing null data:\",df.isnull().sum().sum())\n",
        "df.dropna(inplace=True)\n",
        "print(\"Number of rows containing null data after removal:\",df.isnull().sum().sum())\n",
        "print(\"Number of Rows After: \",df.shape[0])"
      ]
    },
    {
      "cell_type": "markdown",
      "metadata": {
        "id": "u0Y68nh87HJX"
      },
      "source": [
        "**Part F -**\n",
        "\n",
        "First identify the independant and dependant variables.\n",
        "\n",
        "Then create two arrays named x and y and add independant variable data to array x, dependant variable data to array y."
      ]
    },
    {
      "cell_type": "code",
      "execution_count": null,
      "metadata": {
        "colab": {
          "base_uri": "https://localhost:8080/"
        },
        "id": "m49bbkSy7xxp",
        "outputId": "4a5966cd-d2d4-4183-e169-3db827ad7aaf"
      },
      "outputs": [
        {
          "output_type": "stream",
          "name": "stdout",
          "text": [
            "[12.586   21.3822   7.7413  14.7537  12.4957  12.2123   8.9991  22.953\n",
            " 11.8508   7.7561   4.9378   8.7498  10.2439  13.2726  14.8677  13.9948\n",
            "  4.43651 39.208   26.962   36.013   12.1034  14.0393  18.0114   6.5167\n",
            " 41.333   16.8159  23.7021  14.6579  22.1806  18.8572  12.6831  20.2689\n",
            " 11.8247  20.5781  13.0849   8.8712   8.9629  29.669    8.8891  15.6342\n",
            "  6.35688  8.8923  11.6702   5.69087 10.0814  12.4601   9.3277  42.037\n",
            "  9.7531  11.5136   8.6474  41.583   26.329   18.0037  27.868   46.35\n",
            "  4.0324  15.9783   6.92895  5.6724   7.8808   7.5528  11.9325  13.0736\n",
            "      nan  7.2923   8.43794 22.4491   6.05395 11.3604   7.2846  10.567\n",
            "  2.3462   6.84468 11.4231  10.7379  17.0266   7.1653   6.20873  5.39261\n",
            "  7.03431 17.3122  11.8595  12.7587   5.96347 10.794   17.0934   8.2143\n",
            " 14.5565   8.1394       nan 10.2039   7.6454  19.7043   6.5595  14.2906\n",
            "  7.1473  11.7124  12.6012 ]\n"
          ]
        }
      ],
      "source": [
        "#depent variable:total factory workers\n",
        "#independent variable:annualprofit\n",
        "y=np.array(df.AnnualProfit)\n",
        "x=np.array(df.TotalFactoryWorkers)\n",
        "out_arr = np.add(x, y)\n",
        "print(out_arr)\n"
      ]
    },
    {
      "cell_type": "markdown",
      "metadata": {
        "id": "8vRXmn9z8H4q"
      },
      "source": [
        "**Part G -**\n",
        "\n",
        "Create an array called 'theta' that will hold $θ_0$ and $θ_1$. Initalize both values to 0.\n",
        "\n",
        "Then call the gradientDescent function using array x, array y, and array theta. Do not provide any other input parameters.\n",
        "\n",
        "Print out the values of y-intercept and slope/gradient"
      ]
    },
    {
      "cell_type": "code",
      "execution_count": null,
      "metadata": {
        "colab": {
          "base_uri": "https://localhost:8080/",
          "height": 381
        },
        "id": "e7nBeh3b9KXK",
        "outputId": "b8d3c7af-2987-4051-d021-c7392ef4407c"
      },
      "outputs": [
        {
          "output_type": "error",
          "ename": "IndexError",
          "evalue": "ignored",
          "traceback": [
            "\u001b[0;31m---------------------------------------------------------------------------\u001b[0m",
            "\u001b[0;31mIndexError\u001b[0m                                Traceback (most recent call last)",
            "\u001b[0;32m<ipython-input-29-777d63b10756>\u001b[0m in \u001b[0;36m<module>\u001b[0;34m\u001b[0m\n\u001b[1;32m      1\u001b[0m \u001b[0;32mfrom\u001b[0m \u001b[0msklearn\u001b[0m\u001b[0;34m.\u001b[0m\u001b[0mlinear_model\u001b[0m \u001b[0;32mimport\u001b[0m \u001b[0mLinearRegression\u001b[0m\u001b[0;34m\u001b[0m\u001b[0;34m\u001b[0m\u001b[0m\n\u001b[1;32m      2\u001b[0m \u001b[0mtheta\u001b[0m \u001b[0;34m=\u001b[0m \u001b[0;34m[\u001b[0m\u001b[0;36m0\u001b[0m\u001b[0;34m,\u001b[0m\u001b[0;36m0\u001b[0m\u001b[0;34m]\u001b[0m\u001b[0;34m\u001b[0m\u001b[0;34m\u001b[0m\u001b[0m\n\u001b[0;32m----> 3\u001b[0;31m \u001b[0mgradientDescent\u001b[0m\u001b[0;34m(\u001b[0m\u001b[0mx\u001b[0m\u001b[0;34m,\u001b[0m\u001b[0my\u001b[0m\u001b[0;34m,\u001b[0m\u001b[0mtheta\u001b[0m\u001b[0;34m)\u001b[0m\u001b[0;34m\u001b[0m\u001b[0;34m\u001b[0m\u001b[0m\n\u001b[0m\u001b[1;32m      4\u001b[0m \u001b[0mdata\u001b[0m\u001b[0;34m,\u001b[0m \u001b[0mtarget\u001b[0m \u001b[0;34m=\u001b[0m \u001b[0mdf\u001b[0m\u001b[0;34m[\u001b[0m\u001b[0;34m[\u001b[0m\u001b[0;34m\"TotalFactoryWorkers\"\u001b[0m\u001b[0;34m]\u001b[0m\u001b[0;34m]\u001b[0m\u001b[0;34m,\u001b[0m \u001b[0mdf\u001b[0m\u001b[0;34m[\u001b[0m\u001b[0;34m\"AnnualProfit\"\u001b[0m\u001b[0;34m]\u001b[0m\u001b[0;34m\u001b[0m\u001b[0;34m\u001b[0m\u001b[0m\n\u001b[1;32m      5\u001b[0m \u001b[0mlinear_regression\u001b[0m \u001b[0;34m=\u001b[0m \u001b[0mLinearRegression\u001b[0m\u001b[0;34m(\u001b[0m\u001b[0;34m)\u001b[0m\u001b[0;34m\u001b[0m\u001b[0;34m\u001b[0m\u001b[0m\n",
            "\u001b[0;32m<ipython-input-16-1a3c712740de>\u001b[0m in \u001b[0;36mgradientDescent\u001b[0;34m(x, y, theta, numIterations, alpha)\u001b[0m\n\u001b[1;32m     11\u001b[0m     \u001b[0mhy\u001b[0m\u001b[0;34m=\u001b[0m\u001b[0;36m0\u001b[0m\u001b[0;34m\u001b[0m\u001b[0;34m\u001b[0m\u001b[0m\n\u001b[1;32m     12\u001b[0m     \u001b[0;32mwhile\u001b[0m \u001b[0mi\u001b[0m \u001b[0;34m<\u001b[0m \u001b[0mm\u001b[0m\u001b[0;34m:\u001b[0m\u001b[0;34m\u001b[0m\u001b[0;34m\u001b[0m\u001b[0m\n\u001b[0;32m---> 13\u001b[0;31m         \u001b[0mhx\u001b[0m \u001b[0;34m+=\u001b[0m \u001b[0mhypothesis_x\u001b[0m\u001b[0;34m(\u001b[0m\u001b[0mtheta\u001b[0m\u001b[0;34m,\u001b[0m \u001b[0mx\u001b[0m\u001b[0;34m[\u001b[0m\u001b[0mi\u001b[0m\u001b[0;34m]\u001b[0m\u001b[0;34m)\u001b[0m\u001b[0;34m-\u001b[0m\u001b[0my\u001b[0m\u001b[0;34m[\u001b[0m\u001b[0mi\u001b[0m\u001b[0;34m]\u001b[0m\u001b[0;34m\u001b[0m\u001b[0;34m\u001b[0m\u001b[0m\n\u001b[0m\u001b[1;32m     14\u001b[0m         \u001b[0mhy\u001b[0m \u001b[0;34m+=\u001b[0m \u001b[0;34m(\u001b[0m\u001b[0mhypothesis_x\u001b[0m\u001b[0;34m(\u001b[0m\u001b[0mtheta\u001b[0m\u001b[0;34m,\u001b[0m \u001b[0mx\u001b[0m\u001b[0;34m[\u001b[0m\u001b[0mi\u001b[0m\u001b[0;34m]\u001b[0m\u001b[0;34m)\u001b[0m\u001b[0;34m-\u001b[0m\u001b[0my\u001b[0m\u001b[0;34m[\u001b[0m\u001b[0mi\u001b[0m\u001b[0;34m]\u001b[0m\u001b[0;34m)\u001b[0m\u001b[0;34m*\u001b[0m\u001b[0mx\u001b[0m\u001b[0;34m[\u001b[0m\u001b[0mi\u001b[0m\u001b[0;34m]\u001b[0m\u001b[0;34m\u001b[0m\u001b[0;34m\u001b[0m\u001b[0m\n\u001b[1;32m     15\u001b[0m         \u001b[0mi\u001b[0m\u001b[0;34m+\u001b[0m\u001b[0;36m1\u001b[0m\u001b[0;34m\u001b[0m\u001b[0;34m\u001b[0m\u001b[0m\n",
            "\u001b[0;32m<ipython-input-22-cc697828f468>\u001b[0m in \u001b[0;36mhypothesis_x\u001b[0;34m(x, theta)\u001b[0m\n\u001b[1;32m      2\u001b[0m \u001b[0;32mimport\u001b[0m \u001b[0mnumpy\u001b[0m \u001b[0;32mas\u001b[0m \u001b[0mnp\u001b[0m\u001b[0;34m\u001b[0m\u001b[0;34m\u001b[0m\u001b[0m\n\u001b[1;32m      3\u001b[0m \u001b[0;32mdef\u001b[0m \u001b[0mhypothesis_x\u001b[0m\u001b[0;34m(\u001b[0m\u001b[0mx\u001b[0m\u001b[0;34m,\u001b[0m \u001b[0mtheta\u001b[0m\u001b[0;34m)\u001b[0m\u001b[0;34m:\u001b[0m\u001b[0;34m\u001b[0m\u001b[0;34m\u001b[0m\u001b[0m\n\u001b[0;32m----> 4\u001b[0;31m  \u001b[0mans\u001b[0m\u001b[0;34m=\u001b[0m \u001b[0mtheta\u001b[0m\u001b[0;34m[\u001b[0m\u001b[0;36m0\u001b[0m\u001b[0;34m]\u001b[0m\u001b[0;34m*\u001b[0m\u001b[0mx\u001b[0m\u001b[0;34m+\u001b[0m\u001b[0mtheta\u001b[0m\u001b[0;34m[\u001b[0m\u001b[0;36m1\u001b[0m\u001b[0;34m]\u001b[0m\u001b[0;34m\u001b[0m\u001b[0;34m\u001b[0m\u001b[0m\n\u001b[0m\u001b[1;32m      5\u001b[0m  \u001b[0;32mreturn\u001b[0m \u001b[0mans\u001b[0m\u001b[0;34m\u001b[0m\u001b[0;34m\u001b[0m\u001b[0m\n\u001b[1;32m      6\u001b[0m \u001b[0;34m\u001b[0m\u001b[0m\n",
            "\u001b[0;31mIndexError\u001b[0m: invalid index to scalar variable."
          ]
        }
      ],
      "source": [
        "from sklearn.linear_model import LinearRegression\n",
        "theta = [0,0]\n",
        "data, target = df[[\"TotalFactoryWorkers\"]], df[\"AnnualProfit\"]\n",
        "linear_regression = LinearRegression()\n",
        "linear_regression.fit(data,target)\n",
        "slope = linear_regression.coef_[0]\n",
        "print(slope)\n",
        "intercept = linear_regression.intercept_\n",
        "xVals, yVals = df[\"TotalFactoryWorkers\"],df[\"AnnualProfit\"]\n",
        "print('slope',theta[0])\n",
        "print ('intercept',theta[1])\n",
        "\n",
        "gradientDescent(x,y,theta)\n",
        "\n"
      ]
    },
    {
      "cell_type": "markdown",
      "metadata": {
        "id": "lksKYteB9NOx"
      },
      "source": [
        "**Part H -** Plot a scatter plot and regression line on the same graph"
      ]
    },
    {
      "cell_type": "code",
      "execution_count": null,
      "metadata": {
        "colab": {
          "base_uri": "https://localhost:8080/",
          "height": 296
        },
        "id": "Jdah8R6L9XSl",
        "outputId": "24d12466-2305-4ddf-cf98-75a937dc9696"
      },
      "outputs": [
        {
          "output_type": "display_data",
          "data": {
            "text/plain": [
              "<Figure size 432x288 with 1 Axes>"
            ],
            "image/png": "[encoded data removed]"
          },
          "metadata": {
            "needs_background": "light"
          }
        }
      ],
      "source": [
        "import matplotlib.pyplot as plt\n",
        "from sklearn.linear_model import LinearRegression\n",
        "plt.scatter(xVals, yVals)\n",
        "x_range = np.linspace(xVals.min(), xVals.max(), num=2)\n",
        "y_range = (slope * x_range + intercept) # y = mx + c\n",
        "plt.plot(x_range, y_range, color=\"pink\")\n",
        "plt.xlabel(\"annual_profit\")\n",
        "plt.ylabel(\"TotalFactoryWorkers\")\n",
        "plt.title(\"Linear Regression - Scatter Plot with Best Fit Line\")\n",
        "plt.show()\n"
      ]
    },
    {
      "cell_type": "markdown",
      "metadata": {
        "id": "upsln2T-38-M"
      },
      "source": [
        "---\n",
        "## Question 2\n",
        "\n",
        "Logistic Regression on Flowers Dataset\n",
        "\n",
        "---\n",
        "\n"
      ]
    },
    {
      "cell_type": "markdown",
      "metadata": {
        "id": "plh_l8AV4MU5"
      },
      "source": [
        "**Part A** - Load the file FlowersData.csv and describe the dataset"
      ]
    },
    {
      "cell_type": "code",
      "execution_count": null,
      "metadata": {
        "colab": {
          "base_uri": "https://localhost:8080/"
        },
        "id": "p7Cgq8di3771",
        "outputId": "d6fe850e-2b40-47e2-f452-47348aee3c01"
      },
      "outputs": [
        {
          "output_type": "stream",
          "name": "stdout",
          "text": [
            "       sepal_length  sepal_width  petal_length  petal_width\n",
            "count    150.000000   150.000000    150.000000   150.000000\n",
            "mean       5.843333     3.054000      3.758667     1.198667\n",
            "std        0.828066     0.433594      1.764420     0.763161\n",
            "min        4.300000     2.000000      1.000000     0.100000\n",
            "25%        5.100000     2.800000      1.600000     0.300000\n",
            "50%        5.800000     3.000000      4.350000     1.300000\n",
            "75%        6.400000     3.300000      5.100000     1.800000\n",
            "max        7.900000     4.400000      6.900000     2.500000\n"
          ]
        }
      ],
      "source": [
        "import pandas as pd\n",
        "df = pd.read_csv(\"FlowersData.csv\")\n",
        "print(df.describe())\n"
      ]
    },
    {
      "cell_type": "markdown",
      "metadata": {
        "id": "7LsiIV9n4QMz"
      },
      "source": [
        "**Part B** - Split data into training and test data using SKLearn train_test_split. Specify parameter test_size to be 25%\n",
        "\n",
        "Hint: You will be needing 4 arrays: X_train, X_test, y_train, y_test"
      ]
    },
    {
      "cell_type": "code",
      "execution_count": null,
      "metadata": {
        "id": "f49YQ4GT4k5s"
      },
      "outputs": [],
      "source": [
        "from sklearn import datasets\n",
        "from sklearn.model_selection import train_test_split\n",
        "data = pd.read_csv(\"FlowersData.csv\")\n",
        "\n",
        "y = data.flower_name\n",
        "X = data.drop('flower_name', axis=1)\n",
        "X_train, X_test, y_train, y_test = train_test_split(X, y,test_size=0.25)\n",
        "\n"
      ]
    },
    {
      "cell_type": "markdown",
      "metadata": {
        "id": "Ez5Fa2ePDzXu"
      },
      "source": [
        "**Part C** - Perform scaling on the X_test and X_train values using StandardScacler from SKLearn Library"
      ]
    },
    {
      "cell_type": "code",
      "execution_count": null,
      "metadata": {
        "id": "97-2bUgtDzXv"
      },
      "outputs": [],
      "source": [
        "from numpy import asarray\n",
        "from sklearn.preprocessing import MinMaxScaler\n",
        "# define data\n",
        "data = pd.read_csv(\"FlowersData.csv\")\n",
        "#print(data)\n",
        "# define min max scaler\n",
        "scaler = MinMaxScaler()\n",
        "# transform data\n",
        "y = data.flower_name\n",
        "X = data.drop('flower_name', axis=1)\n",
        "scaled=scaler.fit_transform(X,y)\n"
      ]
    },
    {
      "cell_type": "markdown",
      "metadata": {
        "id": "E9BlQYh54lLX"
      },
      "source": [
        "**Part D** - Train Model using SKLearn LogisticRegression"
      ]
    },
    {
      "cell_type": "code",
      "execution_count": null,
      "metadata": {
        "id": "hD_MUVu64xkw"
      },
      "outputs": [],
      "source": [
        "import pandas as pd\n",
        "from sklearn import linear_model\n",
        "regression_model = linear_model. LinearRegression()\n"
      ]
    },
    {
      "cell_type": "markdown",
      "metadata": {
        "id": "-HKhBOzW4xSx"
      },
      "source": [
        "**Part E** - Predict Labels for test split"
      ]
    },
    {
      "cell_type": "code",
      "execution_count": null,
      "metadata": {
        "id": "IqpPKB1M5G4G"
      },
      "outputs": [],
      "source": [
        "from sklearn import datasets\n",
        "from sklearn.model_selection import train_test_split\n",
        "from sklearn.ensemble import RandomForestClassifier\n",
        "from sklearn.metrics import accuracy_score\n",
        "data = pd. read_csv(\"FlowersData.csv\")\n",
        "model = RandomForestClassifier(random_state=1)\n",
        "model.fit(X_train, y_train)\n",
        "yhat = model.predict(X_test)\n"
      ]
    },
    {
      "cell_type": "markdown",
      "metadata": {
        "id": "34It-TAowlCw"
      },
      "source": [
        "---\n",
        "## Question 3\n",
        "\n",
        "Confusion Matrix Construction\n",
        "\n",
        "---"
      ]
    },
    {
      "cell_type": "markdown",
      "metadata": {
        "id": "vi_ix0XsxF8x"
      },
      "source": [
        "**Part A** - Using the prediction result of logistic regression (Question 2) construct a confusion matrix using SKLearn confusion_matrix\n",
        "\n",
        "Print out this confusion matrix"
      ]
    },
    {
      "cell_type": "code",
      "execution_count": null,
      "metadata": {
        "colab": {
          "base_uri": "https://localhost:8080/",
          "height": 282
        },
        "id": "o23T4fDsxD-L",
        "outputId": "e468f720-56f0-4555-bf3e-61a954badda4"
      },
      "outputs": [
        {
          "output_type": "execute_result",
          "data": {
            "text/plain": [
              "<matplotlib.axes._subplots.AxesSubplot at 0x7f09f72d2390>"
            ]
          },
          "metadata": {},
          "execution_count": 248
        },
        {
          "output_type": "display_data",
          "data": {
            "text/plain": [
              "<Figure size 432x288 with 1 Axes>"
            ],
            "image/png": "[encoded data removed]"
          },
          "metadata": {
            "needs_background": "light"
          }
        }
      ],
      "source": [
        "import pandas as pd\n",
        "from sklearn.metrics import confusion_matrix\n",
        "import numpy\n",
        "import seaborn as sns\n",
        "\n",
        "data=pd.read_csv(\"FlowersData.csv\")\n",
        "data.columns\n",
        "columns = ['sepal_length', 'sepal_width']\n",
        "matrix_confusion = confusion_matrix(y_test, yhat)\n",
        "sns.heatmap(matrix_confusion, square=True, annot=True, cmap='Blues', fmt='d', cbar=False)\n",
        "# cm=confusion_matrix(y_true,y_pred)\n",
        "# cm\n"
      ]
    },
    {
      "cell_type": "markdown",
      "metadata": {
        "id": "JlYB9BY4xEh1"
      },
      "source": [
        "**Part B** - Calculate and print Accuracy"
      ]
    },
    {
      "cell_type": "code",
      "execution_count": null,
      "metadata": {
        "colab": {
          "base_uri": "https://localhost:8080/"
        },
        "id": "cupearHPxUKj",
        "outputId": "7524ab3d-f1e8-47e5-8753-6a23b5f399e8"
      },
      "outputs": [
        {
          "output_type": "stream",
          "name": "stdout",
          "text": [
            "Accuracy: 0.895\n"
          ]
        }
      ],
      "source": [
        "acc = accuracy_score(y_test, yhat)\n",
        "print('Accuracy: %.3f' % acc)"
      ]
    },
    {
      "cell_type": "markdown",
      "metadata": {
        "id": "RvEXBB3CxUk-"
      },
      "source": [
        "**Part C** - Calculate and print Recall"
      ]
    },
    {
      "cell_type": "code",
      "execution_count": null,
      "metadata": {
        "colab": {
          "base_uri": "https://localhost:8080/"
        },
        "id": "PyBufaj8xbKC",
        "outputId": "8a8f233d-a218-4bc4-9a2f-e163f2056741"
      },
      "outputs": [
        {
          "output_type": "stream",
          "name": "stdout",
          "text": [
            "recall: 0.884\n"
          ]
        }
      ],
      "source": [
        "from sklearn.metrics import precision_score, recall_score, f1_score, accuracy_score\n",
        "rec = recall_score(y_test, yhat,average=\"macro\")\n",
        "print('recall: %.3f' % rec)"
      ]
    },
    {
      "cell_type": "markdown",
      "metadata": {
        "id": "W6BgzGjMxbfu"
      },
      "source": [
        "**Part D** - Calculate and print Precision"
      ]
    },
    {
      "cell_type": "code",
      "execution_count": null,
      "metadata": {
        "colab": {
          "base_uri": "https://localhost:8080/"
        },
        "id": "gHJg8C-1xg_6",
        "outputId": "6ea5ca61-b94f-44ab-ad17-5ccd81ae7815"
      },
      "outputs": [
        {
          "output_type": "stream",
          "name": "stdout",
          "text": [
            "Precision: 0.895\n"
          ]
        }
      ],
      "source": [
        "print('Precision: %.3f' % precision_score(y_test, yhat ,average=\"micro\"))"
      ]
    },
    {
      "cell_type": "markdown",
      "metadata": {
        "id": "6RPHz7hVxhbk"
      },
      "source": [
        "**Part E** - Calculate and print $𝐹_1$ Score"
      ]
    },
    {
      "cell_type": "code",
      "execution_count": null,
      "metadata": {
        "colab": {
          "base_uri": "https://localhost:8080/"
        },
        "id": "NmwjCpMixmeJ",
        "outputId": "814a7224-3f56-49d5-da3e-6e7fdae97d29"
      },
      "outputs": [
        {
          "output_type": "stream",
          "name": "stdout",
          "text": [
            "F1 Score: 0.895\n"
          ]
        }
      ],
      "source": [
        "print('F1 Score: %.3f' % f1_score(y_test, yhat,average=\"weighted\"))"
      ]
    }
  ],
  "metadata": {
    "celltoolbar": "Slideshow",
    "colab": {
      "provenance": [],
      "include_colab_link": true
    },
    "kernelspec": {
      "display_name": "Python 3",
      "language": "python",
      "name": "python3"
    },
    "language_info": {
      "codemirror_mode": {
        "name": "ipython",
        "version": 3
      },
      "file_extension": ".py",
      "mimetype": "text/x-python",
      "name": "python",
      "nbconvert_exporter": "python",
      "pygments_lexer": "ipython3",
      "version": "3.5.1"
    }
  },
  "nbformat": 4,
  "nbformat_minor": 0
}